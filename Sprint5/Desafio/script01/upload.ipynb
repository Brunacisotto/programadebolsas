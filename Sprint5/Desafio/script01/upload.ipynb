{
 "cells": [
  {
   "cell_type": "code",
   "execution_count": 1,
   "id": "ad1e8201-80d4-4407-a684-5af371a639ba",
   "metadata": {},
   "outputs": [],
   "source": [
    "import boto3\n",
    "import pandas as pd\n",
    "\n",
    "session = boto3.Session(profile_name='AdministratorAccess-794038242332')\n",
    "\n",
    "s3 = session.client('s3')"
   ]
  },
  {
   "cell_type": "code",
   "execution_count": 4,
   "id": "e44e8471-fe0a-4ba9-8581-9f97d3301c23",
   "metadata": {},
   "outputs": [
    {
     "name": "stdout",
     "output_type": "stream",
     "text": [
      "Bucket 'desafio-sprint5' criado com sucesso.\n"
     ]
    }
   ],
   "source": [
    "bucket_name = \"desafio-sprint5\"\n",
    "region = \"us-east-1\"\n",
    "\n",
    "try:\n",
    "    response = s3.create_bucket(\n",
    "        Bucket=bucket_name,\n",
    "          )\n",
    "    print(f\"Bucket '{bucket_name}' criado com sucesso.\")\n",
    "except Exception as e:\n",
    "    print(f\"Erro ao criar o bucket: {e}\")"
   ]
  },
  {
   "cell_type": "code",
   "execution_count": 5,
   "id": "f1d42258-edba-4f60-a1fb-9a6f9ac23829",
   "metadata": {
    "scrolled": true
   },
   "outputs": [
    {
     "name": "stdout",
     "output_type": "stream",
     "text": [
      "Buckets disponíveis:\n",
      "- desafio-sprint5\n",
      "- exercicio-sprint5\n"
     ]
    }
   ],
   "source": [
    "# Listar buckets disponíveis\n",
    "buckets = s3.list_buckets()\n",
    "print(\"Buckets disponíveis:\")\n",
    "for bucket in buckets['Buckets']:\n",
    "    print(f\"- {bucket['Name']}\")"
   ]
  },
  {
   "cell_type": "code",
   "execution_count": 23,
   "id": "ae7494b1-b55f-4014-b3c9-f8b480b04a57",
   "metadata": {},
   "outputs": [
    {
     "name": "stdout",
     "output_type": "stream",
     "text": [
      "Arquivo enviado com sucesso para o S3!\n"
     ]
    }
   ],
   "source": [
    "bucket_name = 'desafio-sprint5'\n",
    "file_path = \"C:\\\\Users\\\\sidci\\\\OneDrive\\\\Documentos\\\\Bruna\\\\compass\\\\sprint5\\\\view_dados_abertos_ogu_2024091\\\\view_dados_abertos_ogu_202411051652.csv\"\n",
    "s3_key = 'uploads/dadosogu.csv'\n",
    "\n",
    "# Upload do arquivo\n",
    "try:\n",
    "    s3.upload_file(Filename=file_path, Bucket=bucket_name, Key=s3_key)\n",
    "    print(\"Arquivo enviado com sucesso para o S3!\")\n",
    "except Exception as e:\n",
    "    print(\"Erro ao enviar o arquivo:\", e)"
   ]
  },
  {
   "cell_type": "code",
   "execution_count": null,
   "id": "28d9a93b-3ebf-4fba-b130-e5a639d6486a",
   "metadata": {},
   "outputs": [],
   "source": []
  }
 ],
 "metadata": {
  "kernelspec": {
   "display_name": "Python 3 (ipykernel)",
   "language": "python",
   "name": "python3"
  },
  "language_info": {
   "codemirror_mode": {
    "name": "ipython",
    "version": 3
   },
   "file_extension": ".py",
   "mimetype": "text/x-python",
   "name": "python",
   "nbconvert_exporter": "python",
   "pygments_lexer": "ipython3",
   "version": "3.11.7"
  }
 },
 "nbformat": 4,
 "nbformat_minor": 5
}
